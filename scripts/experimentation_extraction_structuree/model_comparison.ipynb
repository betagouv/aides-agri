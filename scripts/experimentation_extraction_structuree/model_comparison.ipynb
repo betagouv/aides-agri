{
 "cells": [
  {
   "cell_type": "code",
   "execution_count": 1,
   "id": "531955e0",
   "metadata": {},
   "outputs": [
    {
     "name": "stderr",
     "output_type": "stream",
     "text": [
      "/Users/theo.moreau/Documents/betagouv/aides-agri/.venv/lib/python3.13/site-packages/tqdm/auto.py:21: TqdmWarning: IProgress not found. Please update jupyter and ipywidgets. See https://ipywidgets.readthedocs.io/en/stable/user_install.html\n",
      "  from .autonotebook import tqdm as notebook_tqdm\n"
     ]
    }
   ],
   "source": [
    "from data_extraction.core.engine import Engine\n",
    "from data_extraction.schemas.pydantic_schema import DispositifAide"
   ]
  },
  {
   "cell_type": "code",
   "execution_count": 2,
   "id": "8e7971a0",
   "metadata": {},
   "outputs": [],
   "source": [
    "URL_FILE_PATH = \"https://aides-redevances.eau-loire-bretagne.fr/files/live/sites/aides-redevances/files/Aides-12prog/Fiches-actions/AGRI_1.pdf\""
   ]
  },
  {
   "cell_type": "code",
   "execution_count": 6,
   "id": "f4ce043b",
   "metadata": {},
   "outputs": [
    {
     "name": "stderr",
     "output_type": "stream",
     "text": [
      "2025-09-22 11:39:37,088 - INFO - HTTP Request: POST http://127.0.0.1:11434/api/chat \"HTTP/1.1 200 OK\"\n"
     ]
    }
   ],
   "source": [
    "engine = Engine(schema=DispositifAide, model_name=\"gemma3:4b\")\n",
    "result = engine.run(URL_FILE_PATH)"
   ]
  }
 ],
 "metadata": {
  "kernelspec": {
   "display_name": ".venv",
   "language": "python",
   "name": "python3"
  },
  "language_info": {
   "codemirror_mode": {
    "name": "ipython",
    "version": 3
   },
   "file_extension": ".py",
   "mimetype": "text/x-python",
   "name": "python",
   "nbconvert_exporter": "python",
   "pygments_lexer": "ipython3",
   "version": "3.13.3"
  }
 },
 "nbformat": 4,
 "nbformat_minor": 5
}
