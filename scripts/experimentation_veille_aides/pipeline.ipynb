{
 "cells": [
  {
   "cell_type": "markdown",
   "id": "f4d1fea0",
   "metadata": {},
   "source": [
    "# Agricultural Aid Monitoring Workflow - Modular Version\n",
    "\n",
    "This notebook demonstrates the complete agricultural monitoring workflow using the modularized package structure.\n",
    "\n",
    "## Overview\n",
    "The workflow has been modularized into:\n",
    "- **`agricultural_monitoring.config`** - Configuration and settings\n",
    "- **`agricultural_monitoring.models`** - Data models and schemas\n",
    "- **`agricultural_monitoring.extractors`** - Web content extraction\n",
    "- **`agricultural_monitoring.processors`** - LLM processing and filtering\n",
    "- **`agricultural_monitoring.workflows`** - Complete monitoring workflows\n",
    "- **`agricultural_monitoring.monitoring`** - LangSmith observability"
   ]
  },
  {
   "cell_type": "markdown",
   "id": "79ac4274",
   "metadata": {},
   "source": [
    "## 1. Setup and Imports"
   ]
  },
  {
   "cell_type": "code",
   "execution_count": 1,
   "id": "58628c60",
   "metadata": {},
   "outputs": [
    {
     "name": "stdout",
     "output_type": "stream",
     "text": [
      "✅ Modular agricultural monitoring package loaded\n",
      "✅ LangSmith tracing: enabled\n",
      "✅ Target URLs: 3 configured\n",
      "   1. https://agriculture.gouv.fr/mots-cles/aides\n",
      "   2. https://ain-rhone.msa.fr/lfp/soutien-exploitant\n",
      "   3. https://www.franceagrimer.fr/rechercher-une-aide\n"
     ]
    },
    {
     "name": "stderr",
     "output_type": "stream",
     "text": [
      "/Users/theo.moreau/Documents/betagouv/aides-agri/.venv/lib/python3.13/site-packages/pydantic/_internal/_config.py:373: UserWarning: Valid config keys have changed in V2:\n",
      "* 'schema_extra' has been renamed to 'json_schema_extra'\n",
      "  warnings.warn(message, UserWarning)\n"
     ]
    }
   ],
   "source": [
    "# Core imports\n",
    "import sys\n",
    "from pathlib import Path\n",
    "\n",
    "# Add project root to path\n",
    "project_root = Path().resolve()\n",
    "if str(project_root) not in sys.path:\n",
    "    sys.path.insert(0, str(project_root))\n",
    "\n",
    "# Import modular components\n",
    "from agricultural_monitoring.workflows import AgriculturalMonitoringWorkflow\n",
    "from agricultural_monitoring.config.settings import TARGET_URLS, setup_langsmith\n",
    "from agricultural_monitoring.monitoring import run_monitored_workflow, LangSmithAnalyzer\n",
    "\n",
    "# Setup environment\n",
    "langsmith_enabled = setup_langsmith()\n",
    "\n",
    "print(\"✅ Modular agricultural monitoring package loaded\")\n",
    "print(f\"✅ LangSmith tracing: {'enabled' if langsmith_enabled else 'disabled'}\")\n",
    "print(f\"✅ Target URLs: {len(TARGET_URLS)} configured\")\n",
    "\n",
    "# Display target URLs\n",
    "for i, url in enumerate(TARGET_URLS, 1):\n",
    "    print(f\"   {i}. {url}\")"
   ]
  },
  {
   "cell_type": "markdown",
   "id": "f07f3ef7",
   "metadata": {},
   "source": [
    "## 2. Quick Start - Complete Workflow"
   ]
  },
  {
   "cell_type": "code",
   "execution_count": 2,
   "id": "b2a5e219",
   "metadata": {},
   "outputs": [],
   "source": [
    "# Create enhanced workflow with inline link processing\n",
    "workflow = AgriculturalMonitoringWorkflow()"
   ]
  },
  {
   "cell_type": "markdown",
   "id": "ebc68b6f",
   "metadata": {},
   "source": [
    "## 3. Test Single URL"
   ]
  },
  {
   "cell_type": "code",
   "execution_count": 4,
   "id": "245f960a",
   "metadata": {},
   "outputs": [
    {
     "name": "stdout",
     "output_type": "stream",
     "text": [
      "🧪 Testing workflow with: https://www.franceagrimer.fr/rechercher-une-aide\n",
      "🔍 Starting monitoring workflow for: https://www.franceagrimer.fr/rechercher-une-aide\n",
      "📥 Fetching content from: https://www.franceagrimer.fr/rechercher-une-aide (attempt 1)\n",
      "\n",
      "📊 Results:\n",
      "Web extraction: success\n",
      "LLM processing: success\n",
      "Data normalization: success\n",
      "Memory filtering: success\n",
      "\n",
      "🔍 Filtering results:\n",
      "   Before filtering: 16 aids\n",
      "   After filtering: 16 aids\n",
      "   Filtered out: 0 aids\n",
      "\n",
      "✅ New agricultural aids found:\n",
      "   1. Aides à l'assistance technique\n",
      "      Soutien aux acteurs agricoles pour l'assistance technique...\n",
      "   2. Aide aux plus démunis\n",
      "      Dispositif de soutien aux populations agricoles en situation de précarité...\n",
      "   3. Aides à la promotion générique des produits\n",
      "      Soutien à la promotion des produits agricoles...\n"
     ]
    }
   ],
   "source": [
    "# Test with one URL first\n",
    "test_url = TARGET_URLS[2]\n",
    "print(f\"🧪 Testing workflow with: {test_url}\")\n",
    "\n",
    "result = workflow.monitor_url(test_url)\n",
    "\n",
    "print(f\"\\n📊 Results:\")\n",
    "print(f\"Web extraction: {result['web_content']['status']}\")\n",
    "print(f\"LLM processing: {result['llm_extraction']['status']}\")\n",
    "print(f\"Data normalization: {result['normalized_data']['metadata']['status']}\")\n",
    "print(f\"Memory filtering: {result.get('memory_filtered_data', {}).get('status', 'N/A')}\")\n",
    "\n",
    "# Show found aids\n",
    "memory_data = result.get('memory_filtered_data', {})\n",
    "if memory_data.get('status') == 'success':\n",
    "    aids_found = memory_data.get('aides', [])\n",
    "    before_filtering = len(result['normalized_data']['aides'])\n",
    "    after_filtering = len(aids_found)\n",
    "    \n",
    "    print(f\"\\n🔍 Filtering results:\")\n",
    "    print(f\"   Before filtering: {before_filtering} aids\")\n",
    "    print(f\"   After filtering: {after_filtering} aids\")\n",
    "    print(f\"   Filtered out: {memory_data.get('filtered_count', 0)} aids\")\n",
    "    \n",
    "    if aids_found:\n",
    "        print(f\"\\n✅ New agricultural aids found:\")\n",
    "        for i, aide in enumerate(aids_found[:3], 1):\n",
    "            print(f\"   {i}. {aide['titre_aide']}\")\n",
    "            print(f\"      {aide['description'][:100]}...\")\n",
    "    else:\n",
    "        print(f\"\\n📝 No new aids found (all filtered by memory)\")\n",
    "else:\n",
    "    print(f\"\\n❌ Workflow failed at some stage\")"
   ]
  },
  {
   "cell_type": "markdown",
   "id": "16bb7288",
   "metadata": {},
   "source": [
    "## 4. Production Monitoring - All URLs"
   ]
  },
  {
   "cell_type": "code",
   "execution_count": null,
   "id": "ddcaf283",
   "metadata": {},
   "outputs": [],
   "source": [
    "# Run production monitoring with all URLs\n",
    "print(\"🚀 Running production monitoring with all target URLs...\")\n",
    "print(\"=\" * 60)\n",
    "\n",
    "# Use the monitoring function for comprehensive tracking\n",
    "results = run_monitored_workflow(workflow, TARGET_URLS)\n",
    "\n",
    "# Detailed results analysis\n",
    "successful_results = results['successful_results']\n",
    "failed_results = results['failed_results']\n",
    "summary = results['summary']\n",
    "\n",
    "print(f\"\\n📋 DETAILED RESULTS:\")\n",
    "for i, result in enumerate(successful_results + failed_results, 1):\n",
    "    url = result.get('web_content', {}).get('url', 'Unknown')\n",
    "    status = result.get('normalized_data', {}).get('metadata', {}).get('status', 'Unknown')\n",
    "    \n",
    "    print(f\"\\n{i}. {url}\")\n",
    "    print(f\"   Status: {status}\")\n",
    "    \n",
    "    if status == 'success':\n",
    "        aids_before = len(result['normalized_data']['aides'])\n",
    "        memory_data = result.get('memory_filtered_data', {})\n",
    "        aids_after = memory_data.get('new_count', aids_before) if memory_data.get('status') == 'success' else aids_before\n",
    "        \n",
    "        print(f\"   Web extraction: ✅\")\n",
    "        print(f\"   Content length: {len(result['web_content']['content']):,} chars\")\n",
    "        print(f\"   Links found: {result['web_content'].get('links_count', 0)}\")\n",
    "        print(f\"   Aids before filtering: {aids_before}\")\n",
    "        print(f\"   Aids after filtering: {aids_after}\")\n",
    "        \n",
    "        # Show sample aids\n",
    "        final_aids = memory_data.get('aides', result['normalized_data']['aides']) if memory_data.get('status') == 'success' else result['normalized_data']['aides']\n",
    "        if final_aids:\n",
    "            print(f\"   Sample aids:\")\n",
    "            for aide in final_aids[:2]:\n",
    "                print(f\"     • {aide['titre_aide']}\")\n",
    "    else:\n",
    "        error = result.get('normalized_data', {}).get('metadata', {}).get('error', 'Unknown error')\n",
    "        print(f\"   Error: {error}\")"
   ]
  }
 ],
 "metadata": {
  "kernelspec": {
   "display_name": "aides-agri",
   "language": "python",
   "name": "python3"
  },
  "language_info": {
   "codemirror_mode": {
    "name": "ipython",
    "version": 3
   },
   "file_extension": ".py",
   "mimetype": "text/x-python",
   "name": "python",
   "nbconvert_exporter": "python",
   "pygments_lexer": "ipython3",
   "version": "3.13.3"
  }
 },
 "nbformat": 4,
 "nbformat_minor": 5
}
