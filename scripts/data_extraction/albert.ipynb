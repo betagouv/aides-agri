{
 "cells": [
  {
   "cell_type": "code",
   "execution_count": 1,
   "id": "9e58d44d",
   "metadata": {},
   "outputs": [
    {
     "name": "stderr",
     "output_type": "stream",
     "text": [
      "/Users/theo.moreau/Documents/betagouv/aides-agri/.venv/lib/python3.13/site-packages/tqdm/auto.py:21: TqdmWarning: IProgress not found. Please update jupyter and ipywidgets. See https://ipywidgets.readthedocs.io/en/stable/user_install.html\n",
      "  from .autonotebook import tqdm as notebook_tqdm\n"
     ]
    }
   ],
   "source": [
    "import os\n",
    "import json\n",
    "\n",
    "from dotenv import load_dotenv\n",
    "from docling.document_converter import DocumentConverter\n",
    "\n",
    "from schemas.pydantic_schema import DispositifAide\n",
    "from schemas.schema_utils import pydantic_to_json_schema"
   ]
  },
  {
   "cell_type": "code",
   "execution_count": 2,
   "id": "5947b531",
   "metadata": {},
   "outputs": [],
   "source": [
    "load_dotenv()\n",
    "API_KEY = os.getenv(\"ALBERT_API_KEY\")\n",
    "ENDPOINT = \"https://albert.api.etalab.gouv.fr/v1/chat/completions\"\n",
    "JSON_SCHEMA = pydantic_to_json_schema(model=DispositifAide, schema_name=\"aide-agri\")"
   ]
  },
  {
   "cell_type": "code",
   "execution_count": 3,
   "id": "57f6062a",
   "metadata": {},
   "outputs": [],
   "source": [
    "document_path = [\n",
    "  \"https://aides-redevances.eau-loire-bretagne.fr/files/live/sites/aides-redevances/files/Aides-12prog/Fiches-actions/AGRI_1.pdf\",\n",
    "  \"./2017-561_final.pdf\"\n",
    "]"
   ]
  },
  {
   "cell_type": "code",
   "execution_count": 4,
   "id": "85bc3db7",
   "metadata": {},
   "outputs": [],
   "source": [
    "def get_document_context(file_path):\n",
    "  converter = DocumentConverter()\n",
    "  doc = converter.convert(file_path).document\n",
    "  return doc.export_to_text()"
   ]
  },
  {
   "cell_type": "code",
   "execution_count": 5,
   "id": "c546c6e6",
   "metadata": {},
   "outputs": [],
   "source": [
    "import requests\n",
    "\n",
    "def get_header():\n",
    "    headers = {\n",
    "        \"accept\": \"application/json\",\n",
    "        \"Authorization\": f\"Bearer {API_KEY}\",  # Remplace par ta vraie clé\n",
    "        \"Content-Type\": \"application/json\",\n",
    "    }\n",
    "    return headers\n",
    "\n",
    "def get_body_text(model_name, user_message, **kwargs):\n",
    "    payload = {\n",
    "        \"model\": model_name,\n",
    "        \"messages\": [\n",
    "            {\n",
    "                \"role\": \"user\",\n",
    "                \"content\": user_message\n",
    "            }\n",
    "        ],\n",
    "        \"response_format\": {\n",
    "            \"type\": \"text\"\n",
    "        },\n",
    "        **kwargs\n",
    "    }\n",
    "\n",
    "    return payload\n",
    "\n",
    "def get_body(model_name, instruction_prompt, user_message, json_schema, **kwargs):\n",
    "    payload = {\n",
    "        \"model\": model_name,\n",
    "        \"messages\": [\n",
    "            {\n",
    "                \"role\": \"system\",\n",
    "                \"content\": instruction_prompt\n",
    "            },\n",
    "            {\n",
    "                \"role\": \"user\",\n",
    "                \"content\": user_message\n",
    "            }\n",
    "        ],\n",
    "        \"response_format\": {\n",
    "            \"type\": \"json_schema\",\n",
    "            \"json_schema\": json_schema\n",
    "        },\n",
    "        **kwargs\n",
    "    }\n",
    "\n",
    "    return payload\n",
    "\n",
    "def albert_structured_output(model_name, instruction_prompt, user_message, json_schema, **kwargs):\n",
    "    url = ENDPOINT\n",
    "    headers = get_header()\n",
    "    body = get_body(model_name, instruction_prompt, user_message, json_schema, **kwargs)\n",
    "\n",
    "    response = requests.post(url, headers=headers, json=body)\n",
    "\n",
    "    # Vérification du statut et affichage\n",
    "    if response.status_code == 200:\n",
    "        return response.json()\n",
    "    else:\n",
    "        print(f\"Erreur {response.status_code}: {response.text}\")"
   ]
  },
  {
   "cell_type": "code",
   "execution_count": 6,
   "id": "76277072",
   "metadata": {},
   "outputs": [],
   "source": [
    "INSTRUCTION_PROMPT = \"\"\"\n",
    "Tu es un modèle de langage spécialisé dans l’analyse et la synthèse d’informations.\n",
    "Ta mission est de produire un résultat strictement structuré en JSON, conforme au schéma spécifié ci-dessous.\n",
    "- Tu dois suivre fidèlement la structure : aucune information hors du format demandé.\n",
    "- Ne mets aucun commentaire, texte explicatif ou balise en dehors du JSON.\n",
    "- Les valeurs doivent respecter le type indiqué (string, integer, boolean, etc.).\n",
    "- Si une donnée est manquante, utilise null plutôt qu’un texte libre.\n",
    "\"\"\""
   ]
  },
  {
   "cell_type": "code",
   "execution_count": 7,
   "id": "6f2d8825",
   "metadata": {},
   "outputs": [
    {
     "name": "stdout",
     "output_type": "stream",
     "text": [
      "Analyzing document 0\n"
     ]
    },
    {
     "name": "stderr",
     "output_type": "stream",
     "text": [
      "2025-09-18 12:30:38,654 - INFO - detected formats: [<InputFormat.PDF: 'pdf'>]\n",
      "2025-09-18 12:30:38,735 - INFO - Going to convert document batch...\n",
      "2025-09-18 12:30:38,735 - INFO - Initializing pipeline for StandardPdfPipeline with options hash e647edf348883bed75367b22fbe60347\n",
      "2025-09-18 12:30:38,750 - INFO - Loading plugin 'docling_defaults'\n",
      "2025-09-18 12:30:38,752 - INFO - Registered picture descriptions: ['vlm', 'api']\n",
      "2025-09-18 12:30:38,764 - INFO - Loading plugin 'docling_defaults'\n",
      "2025-09-18 12:30:38,767 - INFO - Registered ocr engines: ['easyocr', 'ocrmac', 'rapidocr', 'tesserocr', 'tesseract']\n",
      "2025-09-18 12:30:38,933 - INFO - Accelerator device: 'mps'\n",
      "2025-09-18 12:30:40,623 - INFO - Accelerator device: 'mps'\n",
      "2025-09-18 12:30:41,490 - INFO - Accelerator device: 'mps'\n",
      "2025-09-18 12:30:41,939 - INFO - Processing document AGRI_1.pdf\n",
      "2025-09-18 12:30:45,532 - INFO - Finished converting document AGRI_1.pdf in 7.33 sec.\n",
      "2025-09-18 12:30:45,547 - WARNING - Parameter `strict_text` has been deprecated and will be ignored.\n",
      "2025-09-18 12:30:53,378 - INFO - detected formats: [<InputFormat.PDF: 'pdf'>]\n",
      "2025-09-18 12:30:53,381 - INFO - Going to convert document batch...\n",
      "2025-09-18 12:30:53,382 - INFO - Initializing pipeline for StandardPdfPipeline with options hash e647edf348883bed75367b22fbe60347\n",
      "2025-09-18 12:30:53,383 - INFO - Accelerator device: 'mps'\n"
     ]
    },
    {
     "name": "stdout",
     "output_type": "stream",
     "text": [
      "Analyzing document 1\n"
     ]
    },
    {
     "name": "stderr",
     "output_type": "stream",
     "text": [
      "2025-09-18 12:30:54,946 - INFO - Accelerator device: 'mps'\n",
      "2025-09-18 12:30:55,742 - INFO - Accelerator device: 'mps'\n",
      "2025-09-18 12:30:56,106 - INFO - Processing document 2017-561_final.pdf\n",
      "2025-09-18 12:31:01,304 - INFO - Finished converting document 2017-561_final.pdf in 7.93 sec.\n",
      "2025-09-18 12:31:01,314 - WARNING - Parameter `strict_text` has been deprecated and will be ignored.\n"
     ]
    }
   ],
   "source": [
    "responses = []\n",
    "\n",
    "for idx, path in enumerate(document_path):\n",
    "  print(f\"Analyzing document {idx}\")\n",
    "  document_context = get_document_context(path)\n",
    "  full_response = albert_structured_output(\"albert-small\", INSTRUCTION_PROMPT, document_context, JSON_SCHEMA, temperature=1, max_completion_tokens=400)\n",
    "  responses.append(full_response)"
   ]
  },
  {
   "cell_type": "code",
   "execution_count": 8,
   "id": "c695f119",
   "metadata": {},
   "outputs": [
    {
     "name": "stdout",
     "output_type": "stream",
     "text": [
      "{\n",
      "  \"titre\": \"Accompagnement collectif et individuel des agriculteurs\",\n",
      "  \"description\": \"Cette aide vise à soutenir l'accompagnement collectif et individuel des agriculteurs pour les aider à adapter leurs pratiques et à adopter des systèmes agricoles plus durables.\",\n",
      "  \"eligibilite\": [\n",
      "    \"Public ou privé\"\n",
      "  ],\n",
      "  \"types_aides\": [\n",
      "    \"financement\"\n",
      "  ],\n",
      "  \"porteurs\": [\n",
      "    {\n",
      "      \"nom\": \"L'agence de l'eau\",\n",
      "      \"roles\": [\n",
      "        \"financeur\",\n",
      "        \"diffuseur\"\n",
      "      ]\n",
      "    },\n",
      "    {\n",
      "      \"nom\": \"Les comités de pilotages territoriaux\"\n",
      "    ,\"roles\": [\n",
      "        \"diffuseur\"\n",
      "      ]\n",
      "    },\n",
      "    {\n",
      "      \"nom\": \"Les porteurs de projets Ecophyto\"\n",
      "    ,\"roles\": [\n",
      "        \"diffuseur\"\n",
      "      ]\n",
      "    }\n",
      "  ],\n",
      "  \"cibles\": [\n",
      "    \"Agriculteurs\"\n",
      "  ],\n",
      "  \"eligibilite_geographique\": \"Territoires prioritaires identifiés par le Sdage en vigueur\",\n",
      "  \"eligibilite_geographique_exclusions\": \"Établissements publics\",\n",
      "  \"date_mise_a_jour\": \"2023-12-01T12:00:00Z\",\n",
      "  \"conditions_particulieres\": [\n",
      "    {\n",
      "      \"nom\": \"Conformite avec la circulaire interministérielle del 1er juillet 2016\",\n",
      "      \"details\": \"création d'indicateurs de suivi et de résultats\"\n",
      "    }\n",
      "  ]\n",
      "}\n"
     ]
    }
   ],
   "source": [
    "print(responses[0][\"choices\"][0][\"message\"][\"content\"])"
   ]
  },
  {
   "cell_type": "code",
   "execution_count": 10,
   "id": "98c3e9c5",
   "metadata": {},
   "outputs": [
    {
     "name": "stdout",
     "output_type": "stream",
     "text": [
      "{\n",
      "  \"titre\": \"Instructions DGPE/SDC/2017-561\",\n",
      "  \"description\": \"Instructions détaillées sur la procédure pour la mise en œuvre de l'aide à la réinsertion professionnelle\",\n",
      "  \"eligibilite\": [\n",
      "    \"I. Conditions d'éligibilité de l'exploitation\",\n",
      "    \"II. Conditions d'éligibilité du demandeur\",\n",
      "    \"III. Avantages liés à l'aide à la réinsertion professionnelle\",\n",
      "    \"IV. Dépôt et instruction des demandes\",\n",
      "    \"V. Contrôle et suivi des dossiers\"\n",
      "  ],\n",
      "  \"types_aides\": [\n",
      "    \"assistance\",\n",
      "    \"formation\",\n",
      "    \"avantage fiscal\",\n",
      "    \"avantage fiscal\"\n",
      "  ],\n",
      "  \"porteurs\": [\n",
      "    {\n",
      "      \"nom\": \"Hervé DURAND\",\n",
      "      \"roles\": [\"diffuseur\", \"diffuseur\"]\n",
      "    }\n",
      "  ],\n",
      "  \"cibles\": [\n",
      "    \"Direction générale de la performance économique et environnementale (DGPE)\",\n",
      "    \"Sous-direction de la compétitivité (SDC)\",\n",
      "    \"Bureau de gestion des risques\",\n",
      "    \"Service EPE\",\n",
      "    \"Chambre d'Agriculture\"\n",
      "  ],\n",
      "  \"eligibilite_geographique\": \"France\",\n",
      "  \"date_mise_a_jour\": \"2709-04-19T02:23:31.766Z\"\n",
      "}\n"
     ]
    }
   ],
   "source": [
    "print(responses[1][\"choices\"][0][\"message\"][\"content\"])"
   ]
  },
  {
   "cell_type": "code",
   "execution_count": 11,
   "id": "57bdf835",
   "metadata": {},
   "outputs": [
    {
     "name": "stdout",
     "output_type": "stream",
     "text": [
      "Token number for response 0: 2057\n",
      "Token number for response 1: 7789\n"
     ]
    }
   ],
   "source": [
    "for idx, res in enumerate(responses):\n",
    "  print(f\"Token number for response {idx}: {res[\"usage\"][\"prompt_tokens\"]}\")"
   ]
  }
 ],
 "metadata": {
  "kernelspec": {
   "display_name": ".venv",
   "language": "python",
   "name": "python3"
  },
  "language_info": {
   "codemirror_mode": {
    "name": "ipython",
    "version": 3
   },
   "file_extension": ".py",
   "mimetype": "text/x-python",
   "name": "python",
   "nbconvert_exporter": "python",
   "pygments_lexer": "ipython3",
   "version": "3.13.3"
  }
 },
 "nbformat": 4,
 "nbformat_minor": 5
}
