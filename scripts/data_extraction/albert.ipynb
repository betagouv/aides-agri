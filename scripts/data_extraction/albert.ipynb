{
 "cells": [
  {
   "cell_type": "code",
   "execution_count": 1,
   "id": "9e58d44d",
   "metadata": {},
   "outputs": [
    {
     "name": "stderr",
     "output_type": "stream",
     "text": [
      "/Users/theo.moreau/Documents/betagouv/aides-agri/.venv/lib/python3.13/site-packages/tqdm/auto.py:21: TqdmWarning: IProgress not found. Please update jupyter and ipywidgets. See https://ipywidgets.readthedocs.io/en/stable/user_install.html\n",
      "  from .autonotebook import tqdm as notebook_tqdm\n"
     ]
    }
   ],
   "source": [
    "import os\n",
    "import json\n",
    "\n",
    "from dotenv import load_dotenv\n",
    "from docling.document_converter import DocumentConverter"
   ]
  },
  {
   "cell_type": "code",
   "execution_count": 2,
   "id": "5947b531",
   "metadata": {},
   "outputs": [],
   "source": [
    "load_dotenv()\n",
    "API_KEY = os.getenv(\"ALBERT_API_KEY\")\n",
    "ENDPOINT = \"https://albert.api.etalab.gouv.fr/v1/agents/completions\"\n",
    "with open(\"aide_agri.json\") as f:\n",
    "  JSON_SCHEMA = json.load(f)"
   ]
  },
  {
   "cell_type": "code",
   "execution_count": 3,
   "id": "57f6062a",
   "metadata": {},
   "outputs": [],
   "source": [
    "document_path = [\n",
    "  \"https://aides-redevances.eau-loire-bretagne.fr/files/live/sites/aides-redevances/files/Aides-12prog/Fiches-actions/AGRI_1.pdf\",\n",
    "  \"./2017-561_final.pdf\"\n",
    "]"
   ]
  },
  {
   "cell_type": "code",
   "execution_count": 4,
   "id": "85bc3db7",
   "metadata": {},
   "outputs": [],
   "source": [
    "def get_document_context(file_path):\n",
    "  converter = DocumentConverter()\n",
    "  doc = converter.convert(file_path).document\n",
    "  return doc.export_to_text()"
   ]
  },
  {
   "cell_type": "code",
   "execution_count": 5,
   "id": "c546c6e6",
   "metadata": {},
   "outputs": [],
   "source": [
    "import requests\n",
    "\n",
    "def get_header():\n",
    "    headers = {\n",
    "        \"accept\": \"application/json\",\n",
    "        \"Authorization\": f\"Bearer {API_KEY}\",  # Remplace par ta vraie clé\n",
    "        \"Content-Type\": \"application/json\",\n",
    "    }\n",
    "    return headers\n",
    "\n",
    "def get_body_text(model_name, user_message, json_schema, **kwargs):\n",
    "    payload = {\n",
    "        \"model\": model_name,\n",
    "        \"messages\": [\n",
    "            {\n",
    "                \"role\": \"user\",\n",
    "                \"content\": user_message\n",
    "            }\n",
    "        ],\n",
    "        \"response_format\": {\n",
    "            \"type\": \"text\"\n",
    "        },\n",
    "        **kwargs\n",
    "    }\n",
    "\n",
    "    return payload\n",
    "\n",
    "def get_body(model_name, user_message, json_schema, **kwargs):\n",
    "    payload = {\n",
    "        \"model\": model_name,\n",
    "        \"messages\": [\n",
    "            {\n",
    "                \"role\": \"user\",\n",
    "                \"content\": user_message\n",
    "            }\n",
    "        ],\n",
    "        \"response_format\": {\n",
    "            \"type\": \"json_schema\",\n",
    "            \"json_schema\": json_schema\n",
    "        },\n",
    "        **kwargs\n",
    "    }\n",
    "\n",
    "    return payload\n",
    "\n",
    "def albert_structured_output(model_name, user_message, json_schema, **kwargs):\n",
    "    url = ENDPOINT\n",
    "    headers = get_header()\n",
    "    body = get_body(model_name, user_message, json_schema, **kwargs)\n",
    "\n",
    "    response = requests.post(url, headers=headers, json=body)\n",
    "\n",
    "    # Vérification du statut et affichage\n",
    "    if response.status_code == 200:\n",
    "        return response.json()\n",
    "    else:\n",
    "        print(f\"Erreur {response.status_code}: {response.text}\")"
   ]
  },
  {
   "cell_type": "code",
   "execution_count": 6,
   "id": "76277072",
   "metadata": {},
   "outputs": [],
   "source": [
    "INSTRUCTION_PROMPT = \"\"\"\n",
    "Tu es un modèle de langage spécialisé dans l’analyse et la synthèse d’informations.\n",
    "Ta mission est de produire un résultat strictement structuré en JSON, conforme au schéma spécifié ci-dessous.\n",
    "- Tu dois suivre fidèlement la structure : aucune information hors du format demandé.\n",
    "- Ne mets aucun commentaire, texte explicatif ou balise en dehors du JSON.\n",
    "- Les valeurs doivent respecter le type indiqué (string, integer, boolean, etc.).\n",
    "- Si une donnée est manquante, utilise null plutôt qu’un texte libre.\n",
    "\"\"\""
   ]
  },
  {
   "cell_type": "code",
   "execution_count": 7,
   "id": "6f2d8825",
   "metadata": {},
   "outputs": [
    {
     "name": "stdout",
     "output_type": "stream",
     "text": [
      "Analyzing document 0\n"
     ]
    },
    {
     "name": "stderr",
     "output_type": "stream",
     "text": [
      "2025-09-17 16:49:26,183 - INFO - detected formats: [<InputFormat.PDF: 'pdf'>]\n",
      "2025-09-17 16:49:26,277 - INFO - Going to convert document batch...\n",
      "2025-09-17 16:49:26,278 - INFO - Initializing pipeline for StandardPdfPipeline with options hash e647edf348883bed75367b22fbe60347\n",
      "2025-09-17 16:49:26,293 - INFO - Loading plugin 'docling_defaults'\n",
      "2025-09-17 16:49:26,294 - INFO - Registered picture descriptions: ['vlm', 'api']\n",
      "2025-09-17 16:49:26,306 - INFO - Loading plugin 'docling_defaults'\n",
      "2025-09-17 16:49:26,310 - INFO - Registered ocr engines: ['easyocr', 'ocrmac', 'rapidocr', 'tesserocr', 'tesseract']\n",
      "2025-09-17 16:49:26,478 - INFO - Accelerator device: 'mps'\n",
      "2025-09-17 16:49:28,034 - INFO - Accelerator device: 'mps'\n",
      "2025-09-17 16:49:28,975 - INFO - Accelerator device: 'mps'\n",
      "2025-09-17 16:49:29,319 - INFO - Processing document AGRI_1.pdf\n",
      "2025-09-17 16:49:32,841 - INFO - Finished converting document AGRI_1.pdf in 7.18 sec.\n",
      "2025-09-17 16:49:32,859 - WARNING - Parameter `strict_text` has been deprecated and will be ignored.\n"
     ]
    },
    {
     "name": "stdout",
     "output_type": "stream",
     "text": [
      "9095\n"
     ]
    },
    {
     "name": "stderr",
     "output_type": "stream",
     "text": [
      "2025-09-17 16:49:39,248 - INFO - detected formats: [<InputFormat.PDF: 'pdf'>]\n",
      "2025-09-17 16:49:39,252 - INFO - Going to convert document batch...\n",
      "2025-09-17 16:49:39,253 - INFO - Initializing pipeline for StandardPdfPipeline with options hash e647edf348883bed75367b22fbe60347\n",
      "2025-09-17 16:49:39,253 - INFO - Accelerator device: 'mps'\n"
     ]
    },
    {
     "name": "stdout",
     "output_type": "stream",
     "text": [
      "Analyzing document 1\n"
     ]
    },
    {
     "name": "stderr",
     "output_type": "stream",
     "text": [
      "2025-09-17 16:49:40,826 - INFO - Accelerator device: 'mps'\n",
      "2025-09-17 16:49:41,634 - INFO - Accelerator device: 'mps'\n",
      "2025-09-17 16:49:41,920 - INFO - Processing document 2017-561_final.pdf\n",
      "2025-09-17 16:49:46,659 - INFO - Finished converting document 2017-561_final.pdf in 7.41 sec.\n",
      "2025-09-17 16:49:46,669 - WARNING - Parameter `strict_text` has been deprecated and will be ignored.\n"
     ]
    },
    {
     "name": "stdout",
     "output_type": "stream",
     "text": [
      "32449\n"
     ]
    }
   ],
   "source": [
    "responses = []\n",
    "\n",
    "for idx, path in enumerate(document_path):\n",
    "  print(f\"Analyzing document {idx}\")\n",
    "  document_context = get_document_context(path)\n",
    "  final_prompt = INSTRUCTION_PROMPT + document_context\n",
    "  print(len(document_context))\n",
    "  full_response = albert_structured_output(\"albert-small\", final_prompt, JSON_SCHEMA, temperature=1, max_completion_tokens=300)\n",
    "  responses.append(full_response)"
   ]
  },
  {
   "cell_type": "code",
   "execution_count": 8,
   "id": "c695f119",
   "metadata": {},
   "outputs": [
    {
     "name": "stdout",
     "output_type": "stream",
     "text": [
      "{\"titre\": \"search_datasets\", \"description\": \"AGR_1 - Soutenir l'accompagnement collectif et individuel des agriculteurs\", \"eligibilite\": [\"public\", \"privé\"], \"types_aides\": [\"prioritaire\", \"subvention\"], \"programmes_parents\": \"AGR_1\", \"date_cloture\": \"3006-10-20T18:00:00Z\", \"date_mise_a_jour\": \"3006-10-20T18:00:00Z\", \"id\": \"S Ranking , GazetteerGeoNames + GazetteerCity Deliminator @DataCard '''elhelperU/\", \"metadata\": {\"creation_date\": \"2020-06-16T13:08:16Z\", \"publisher\": \"Agence de l'eau Rhône-Méditerranée\", \"download_url\": \"https://data.apollo-gallery.com/datasets?query=label%3AAGR_1\", \"date_releve\": \"2020-06-16\", \"id_dataset\": \"pbafframtpdb04foundogirosjpgball\"} }\n"
     ]
    }
   ],
   "source": [
    "print(responses[0][\"choices\"][0][\"message\"][\"content\"])"
   ]
  },
  {
   "cell_type": "code",
   "execution_count": 9,
   "id": "98c3e9c5",
   "metadata": {},
   "outputs": [
    {
     "name": "stdout",
     "output_type": "stream",
     "text": [
      "{\"titre\": \"search_datasets\", \"description\": \"Recherche des informations concernant le dispositif d'aide à la réinsertion professionnelle et les formulaires associés en utilisant la fonctionnalité Recherche de jeux de données de la plateforme data.gouv.fr\", \"eligibilite\": \n",
      "        [\n",
      "            \"Lorsque l'exploitation a été jugée inapte au redressement sur décision du préfet après avis de la section « agriculteurs en difficulté » de la CDOA ou dans le cadre d'une procédure collective de liquidation judiciaire par le TGI\",\n",
      "            \"Le bénéficiaire dispose de 2 ans à compter de la date d'octroi pour cesser définitivement son activité et obtenir le paiement des aides\",\n",
      "            \"Peuvent bénéficier de l'ARP, les agriculteurs contraints de cesser leur activité agricole et justifiant de 5 années d'activité agricole au sens de l'art. L. 311-1 du code rural et de la pêche maritime, précédant immédiatement le dépôt de la demande d'ARP, en qualité de :\"\n",
      "        ], \"types_aides\": \n",
      "        [\n",
      "            \"Aide au départ de 3 100 €\",\n",
      "            \"Aide au déménagement\",\n",
      "            \"Aide à la formation\",\n",
      "            \"\n"
     ]
    }
   ],
   "source": [
    "print(responses[1][\"choices\"][0][\"message\"][\"content\"])"
   ]
  },
  {
   "cell_type": "code",
   "execution_count": 10,
   "id": "57bdf835",
   "metadata": {},
   "outputs": [
    {
     "name": "stdout",
     "output_type": "stream",
     "text": [
      "Token number for response 0: 2057\n",
      "Token number for response 1: 7789\n"
     ]
    }
   ],
   "source": [
    "for idx, res in enumerate(responses):\n",
    "  print(f\"Token number for response {idx}: {res[\"usage\"][\"prompt_tokens\"]}\")"
   ]
  },
  {
   "cell_type": "code",
   "execution_count": 11,
   "id": "b0240abe",
   "metadata": {},
   "outputs": [
    {
     "data": {
      "text/plain": [
       "{'id': 'chatcmpl-20a04590a878429fb90391a2a7d5bd84',\n",
       " 'object': 'chat.completion',\n",
       " 'created': 1758120587,\n",
       " 'model': 'meta-llama/Llama-3.1-8B-Instruct',\n",
       " 'choices': [{'index': 0,\n",
       "   'message': {'role': 'assistant',\n",
       "    'content': '{\"titre\": \"search_datasets\", \"description\": \"Recherche des informations concernant le dispositif d\\'aide à la réinsertion professionnelle et les formulaires associés en utilisant la fonctionnalité Recherche de jeux de données de la plateforme data.gouv.fr\", \"eligibilite\": \\n        [\\n            \"Lorsque l\\'exploitation a été jugée inapte au redressement sur décision du préfet après avis de la section « agriculteurs en difficulté » de la CDOA ou dans le cadre d\\'une procédure collective de liquidation judiciaire par le TGI\",\\n            \"Le bénéficiaire dispose de 2 ans à compter de la date d\\'octroi pour cesser définitivement son activité et obtenir le paiement des aides\",\\n            \"Peuvent bénéficier de l\\'ARP, les agriculteurs contraints de cesser leur activité agricole et justifiant de 5 années d\\'activité agricole au sens de l\\'art. L. 311-1 du code rural et de la pêche maritime, précédant immédiatement le dépôt de la demande d\\'ARP, en qualité de :\"\\n        ], \"types_aides\": \\n        [\\n            \"Aide au départ de 3 100 €\",\\n            \"Aide au déménagement\",\\n            \"Aide à la formation\",\\n            \"',\n",
       "    'refusal': None,\n",
       "    'annotations': None,\n",
       "    'audio': None,\n",
       "    'function_call': None,\n",
       "    'tool_calls': [],\n",
       "    'reasoning_content': None},\n",
       "   'logprobs': None,\n",
       "   'finish_reason': 'length',\n",
       "   'stop_reason': None}],\n",
       " 'service_tier': None,\n",
       " 'system_fingerprint': None,\n",
       " 'usage': {'prompt_tokens': 7789,\n",
       "  'completion_tokens': 254,\n",
       "  'total_tokens': 8043,\n",
       "  'cost': 0.0,\n",
       "  'carbon': {'kWh': {'min': 0.011172765439661315, 'max': 0.030808752607661315},\n",
       "   'kgCO2eq': {'min': 0.0009329842588087998, 'max': 0.00252983182527848}},\n",
       "  'details': [{'id': 'chatcmpl-20a04590a878429fb90391a2a7d5bd84',\n",
       "    'model': 'meta-llama/Llama-3.1-8B-Instruct',\n",
       "    'usage': {'prompt_tokens': 7789,\n",
       "     'completion_tokens': 254,\n",
       "     'total_tokens': 8043,\n",
       "     'cost': 0.0,\n",
       "     'carbon': {'kWh': {'min': 0.011172765439661315,\n",
       "       'max': 0.030808752607661315},\n",
       "      'kgCO2eq': {'min': 0.0009329842588087998,\n",
       "       'max': 0.00252983182527848}}}}]},\n",
       " 'prompt_logprobs': None,\n",
       " 'kv_transfer_params': None}"
      ]
     },
     "execution_count": 11,
     "metadata": {},
     "output_type": "execute_result"
    }
   ],
   "source": [
    "full_response"
   ]
  },
  {
   "cell_type": "code",
   "execution_count": 12,
   "id": "156dbdda",
   "metadata": {},
   "outputs": [],
   "source": [
    "structured_output = full_response[\"choices\"][0][\"message\"][\"content\"]"
   ]
  },
  {
   "cell_type": "code",
   "execution_count": 13,
   "id": "485ed597",
   "metadata": {},
   "outputs": [
    {
     "name": "stdout",
     "output_type": "stream",
     "text": [
      "{\"titre\": \"search_datasets\", \"description\": \"Recherche des informations concernant le dispositif d'aide à la réinsertion professionnelle et les formulaires associés en utilisant la fonctionnalité Recherche de jeux de données de la plateforme data.gouv.fr\", \"eligibilite\": \n",
      "        [\n",
      "            \"Lorsque l'exploitation a été jugée inapte au redressement sur décision du préfet après avis de la section « agriculteurs en difficulté » de la CDOA ou dans le cadre d'une procédure collective de liquidation judiciaire par le TGI\",\n",
      "            \"Le bénéficiaire dispose de 2 ans à compter de la date d'octroi pour cesser définitivement son activité et obtenir le paiement des aides\",\n",
      "            \"Peuvent bénéficier de l'ARP, les agriculteurs contraints de cesser leur activité agricole et justifiant de 5 années d'activité agricole au sens de l'art. L. 311-1 du code rural et de la pêche maritime, précédant immédiatement le dépôt de la demande d'ARP, en qualité de :\"\n",
      "        ], \"types_aides\": \n",
      "        [\n",
      "            \"Aide au départ de 3 100 €\",\n",
      "            \"Aide au déménagement\",\n",
      "            \"Aide à la formation\",\n",
      "            \"\n"
     ]
    }
   ],
   "source": [
    "print(structured_output)"
   ]
  }
 ],
 "metadata": {
  "kernelspec": {
   "display_name": ".venv",
   "language": "python",
   "name": "python3"
  },
  "language_info": {
   "codemirror_mode": {
    "name": "ipython",
    "version": 3
   },
   "file_extension": ".py",
   "mimetype": "text/x-python",
   "name": "python",
   "nbconvert_exporter": "python",
   "pygments_lexer": "ipython3",
   "version": "3.13.3"
  }
 },
 "nbformat": 4,
 "nbformat_minor": 5
}
