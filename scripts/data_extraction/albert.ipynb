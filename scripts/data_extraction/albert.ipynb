{
 "cells": [
  {
   "cell_type": "code",
   "execution_count": null,
   "id": "9e58d44d",
   "metadata": {},
   "outputs": [],
   "source": [
    "import os\n",
    "import json\n",
    "\n",
    "from dotenv import load_dotenv\n",
    "from docling.document_converter import DocumentConverter\n",
    "\n",
    "from schemas.json_schema import JSON_SCHEMA"
   ]
  },
  {
   "cell_type": "code",
   "execution_count": null,
   "id": "5947b531",
   "metadata": {},
   "outputs": [],
   "source": [
    "load_dotenv()\n",
    "API_KEY = os.getenv(\"ALBERT_API_KEY\")\n",
    "ENDPOINT = \"https://albert.api.etalab.gouv.fr/v1/agents/completions\""
   ]
  },
  {
   "cell_type": "code",
   "execution_count": null,
   "id": "57f6062a",
   "metadata": {},
   "outputs": [],
   "source": [
    "document_path = [\n",
    "  \"https://aides-redevances.eau-loire-bretagne.fr/files/live/sites/aides-redevances/files/Aides-12prog/Fiches-actions/AGRI_1.pdf\",\n",
    "  \"./2017-561_final.pdf\"\n",
    "]"
   ]
  },
  {
   "cell_type": "code",
   "execution_count": null,
   "id": "85bc3db7",
   "metadata": {},
   "outputs": [],
   "source": [
    "def get_document_context(file_path):\n",
    "  converter = DocumentConverter()\n",
    "  doc = converter.convert(file_path).document\n",
    "  return doc.export_to_text()"
   ]
  },
  {
   "cell_type": "code",
   "execution_count": null,
   "id": "c546c6e6",
   "metadata": {},
   "outputs": [],
   "source": [
    "import requests\n",
    "\n",
    "def get_header():\n",
    "    headers = {\n",
    "        \"accept\": \"application/json\",\n",
    "        \"Authorization\": f\"Bearer {API_KEY}\",  # Remplace par ta vraie clé\n",
    "        \"Content-Type\": \"application/json\",\n",
    "    }\n",
    "    return headers\n",
    "\n",
    "def get_body_text(model_name, user_message, **kwargs):\n",
    "    payload = {\n",
    "        \"model\": model_name,\n",
    "        \"messages\": [\n",
    "            {\n",
    "                \"role\": \"user\",\n",
    "                \"content\": user_message\n",
    "            }\n",
    "        ],\n",
    "        \"response_format\": {\n",
    "            \"type\": \"text\"\n",
    "        },\n",
    "        **kwargs\n",
    "    }\n",
    "\n",
    "    return payload\n",
    "\n",
    "def get_body(model_name, user_message, json_schema, **kwargs):\n",
    "    payload = {\n",
    "        \"model\": model_name,\n",
    "        \"messages\": [\n",
    "            {\n",
    "                \"role\": \"user\",\n",
    "                \"content\": user_message\n",
    "            }\n",
    "        ],\n",
    "        \"response_format\": {\n",
    "            \"type\": \"json_schema\",\n",
    "            \"json_schema\": json_schema\n",
    "        },\n",
    "        **kwargs\n",
    "    }\n",
    "\n",
    "    return payload\n",
    "\n",
    "def albert_structured_output(model_name, user_message, json_schema, **kwargs):\n",
    "    url = ENDPOINT\n",
    "    headers = get_header()\n",
    "    body = get_body(model_name, user_message, json_schema, **kwargs)\n",
    "\n",
    "    response = requests.post(url, headers=headers, json=body)\n",
    "\n",
    "    # Vérification du statut et affichage\n",
    "    if response.status_code == 200:\n",
    "        return response.json()\n",
    "    else:\n",
    "        print(f\"Erreur {response.status_code}: {response.text}\")"
   ]
  },
  {
   "cell_type": "code",
   "execution_count": null,
   "id": "76277072",
   "metadata": {},
   "outputs": [],
   "source": [
    "INSTRUCTION_PROMPT = \"\"\"\n",
    "Tu es un modèle de langage spécialisé dans l’analyse et la synthèse d’informations.\n",
    "Ta mission est de produire un résultat strictement structuré en JSON, conforme au schéma spécifié ci-dessous.\n",
    "- Tu dois suivre fidèlement la structure : aucune information hors du format demandé.\n",
    "- Ne mets aucun commentaire, texte explicatif ou balise en dehors du JSON.\n",
    "- Les valeurs doivent respecter le type indiqué (string, integer, boolean, etc.).\n",
    "- Si une donnée est manquante, utilise null plutôt qu’un texte libre.\n",
    "\"\"\""
   ]
  },
  {
   "cell_type": "code",
   "execution_count": null,
   "id": "6f2d8825",
   "metadata": {},
   "outputs": [],
   "source": [
    "responses = []\n",
    "\n",
    "for idx, path in enumerate(document_path):\n",
    "  print(f\"Analyzing document {idx}\")\n",
    "  document_context = get_document_context(path)\n",
    "  final_prompt = INSTRUCTION_PROMPT + document_context\n",
    "  full_response = albert_structured_output(\"albert-large\", final_prompt, JSON_SCHEMA, temperature=1, max_completion_tokens=300)\n",
    "  responses.append(full_response)"
   ]
  },
  {
   "cell_type": "code",
   "execution_count": null,
   "id": "c695f119",
   "metadata": {},
   "outputs": [],
   "source": [
    "print(responses[0][\"choices\"][0][\"message\"][\"content\"])"
   ]
  },
  {
   "cell_type": "code",
   "execution_count": null,
   "id": "98c3e9c5",
   "metadata": {},
   "outputs": [],
   "source": [
    "print(responses[1][\"choices\"][0][\"message\"][\"content\"])"
   ]
  },
  {
   "cell_type": "code",
   "execution_count": null,
   "id": "57bdf835",
   "metadata": {},
   "outputs": [],
   "source": [
    "for idx, res in enumerate(responses):\n",
    "  print(f\"Token number for response {idx}: {res[\"usage\"][\"prompt_tokens\"]}\")"
   ]
  }
 ],
 "metadata": {
  "kernelspec": {
   "display_name": ".venv",
   "language": "python",
   "name": "python3"
  },
  "language_info": {
   "codemirror_mode": {
    "name": "ipython",
    "version": 3
   },
   "file_extension": ".py",
   "mimetype": "text/x-python",
   "name": "python",
   "nbconvert_exporter": "python",
   "pygments_lexer": "ipython3",
   "version": "3.13.3"
  }
 },
 "nbformat": 4,
 "nbformat_minor": 5
}
