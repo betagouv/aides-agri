{
 "cells": [
  {
   "cell_type": "code",
   "execution_count": null,
   "id": "fac2c47e",
   "metadata": {},
   "outputs": [
    {
     "name": "stderr",
     "output_type": "stream",
     "text": [
      "/Users/theo.moreau/Documents/betagouv/aides-agri/.venv/lib/python3.13/site-packages/tqdm/auto.py:21: TqdmWarning: IProgress not found. Please update jupyter and ipywidgets. See https://ipywidgets.readthedocs.io/en/stable/user_install.html\n",
      "  from .autonotebook import tqdm as notebook_tqdm\n"
     ]
    }
   ],
   "source": [
    "import os\n",
    "import json\n",
    "\n",
    "from dotenv import load_dotenv\n",
    "from docling.document_converter import DocumentConverter\n",
    "\n",
    "from schemas.pydantic_schema import DispositifAide"
   ]
  },
  {
   "cell_type": "code",
   "execution_count": null,
   "id": "7c8212e5",
   "metadata": {},
   "outputs": [],
   "source": [
    "load_dotenv()\n",
    "API_KEY = os.getenv(\"ALBERT_API_KEY\")\n",
    "ENDPOINT = \"https://albert.api.etalab.gouv.fr/v1/agents/completions\""
   ]
  },
  {
   "cell_type": "code",
   "execution_count": 3,
   "id": "2ebe456f",
   "metadata": {},
   "outputs": [],
   "source": [
    "document_path = [\n",
    "  \"https://aides-redevances.eau-loire-bretagne.fr/files/live/sites/aides-redevances/files/Aides-12prog/Fiches-actions/AGRI_1.pdf\",\n",
    "  \"./2017-561_final.pdf\"\n",
    "]"
   ]
  },
  {
   "cell_type": "code",
   "execution_count": 4,
   "id": "f984fc3a",
   "metadata": {},
   "outputs": [],
   "source": [
    "def get_document_context(file_path):\n",
    "  converter = DocumentConverter()\n",
    "  doc = converter.convert(file_path).document\n",
    "  return doc.export_to_text()"
   ]
  },
  {
   "cell_type": "code",
   "execution_count": 5,
   "id": "1445bc79",
   "metadata": {},
   "outputs": [],
   "source": [
    "INSTRUCTION_PROMPT = \"\"\"\n",
    "You are an assistant that extracts information from only the context into a structured format.\n",
    "\n",
    "Your task:\n",
    "- Return ONLY a valid JSON object that strictly follows the schema shown below.\n",
    "- Do NOT add, invent, or hallucinate information. If some fields are missing in the context, use null.\n",
    "- Do NOT include explanations, extra text, or comments — JSON only.\n",
    "- The keys, types, and structure must exactly match the schema.\n",
    "\n",
    "Context: \n",
    "\"\"\""
   ]
  },
  {
   "cell_type": "code",
   "execution_count": 6,
   "id": "cc4a5e30",
   "metadata": {},
   "outputs": [
    {
     "name": "stderr",
     "output_type": "stream",
     "text": [
      "2025-09-18 09:35:11,535 - INFO - detected formats: [<InputFormat.PDF: 'pdf'>]\n",
      "2025-09-18 09:35:11,915 - INFO - Going to convert document batch...\n",
      "2025-09-18 09:35:11,915 - INFO - Initializing pipeline for StandardPdfPipeline with options hash e647edf348883bed75367b22fbe60347\n",
      "2025-09-18 09:35:11,984 - INFO - Loading plugin 'docling_defaults'\n",
      "2025-09-18 09:35:11,991 - INFO - Registered picture descriptions: ['vlm', 'api']\n",
      "2025-09-18 09:35:12,009 - INFO - Loading plugin 'docling_defaults'\n",
      "2025-09-18 09:35:12,029 - INFO - Registered ocr engines: ['easyocr', 'ocrmac', 'rapidocr', 'tesserocr', 'tesseract']\n",
      "2025-09-18 09:35:13,233 - INFO - Accelerator device: 'mps'\n",
      "2025-09-18 09:35:15,158 - INFO - Accelerator device: 'mps'\n",
      "2025-09-18 09:35:16,639 - INFO - Accelerator device: 'mps'\n",
      "2025-09-18 09:35:17,174 - INFO - Processing document AGRI_1.pdf\n",
      "2025-09-18 09:35:22,539 - INFO - Finished converting document AGRI_1.pdf in 11.58 sec.\n",
      "2025-09-18 09:35:22,649 - WARNING - Parameter `strict_text` has been deprecated and will be ignored.\n"
     ]
    }
   ],
   "source": [
    "prompt = INSTRUCTION_PROMPT + get_document_context(document_path[0])"
   ]
  },
  {
   "cell_type": "code",
   "execution_count": 16,
   "id": "6b185427",
   "metadata": {},
   "outputs": [
    {
     "name": "stderr",
     "output_type": "stream",
     "text": [
      "2025-09-18 10:01:28,827 - INFO - HTTP Request: POST http://127.0.0.1:11434/api/chat \"HTTP/1.1 200 OK\"\n"
     ]
    },
    {
     "name": "stdout",
     "output_type": "stream",
     "text": [
      "titre='Accompagnement collectif et individuel des agriculteurs' description=\"Favoriser la mobilisation des agriculteurs vers des changements de pratiques et de systèmes efficaces et durables, par l'accompagnement collectif et/ou individuel (diagnostic d'exploitation et conseil individuel).\" eligibilite=['Public ou privé.'] types_aides=['financement'] porteurs=[Porteur(nom=\"Agence de l'eau\", roles=['financeur', 'diffuseur', 'diffuseur'])] programmes_parents=None url_source=None cibles=[\"aires d'alimentation de captages prioritaires inscrites au Sdage en vigueur\", \"masses d'eau des 22 plans d'eau prioritaires sensibles à l'eutrophisation pour le phosphore\", 'bassins versants algues vertes', \"sous-bassins en déséquilibre quantitatif des projets de territoire pour la gestion de l'eau (PTGE) approuvés\", \"masses d'eau en risque de non atteinte du bon état pour les paramètres pesticides et/ou nitrates et proches du bon état\"] eligibilite_geographique='sur les territoires suivants, identifiés comme prioritaires par le Sdage en vigueur' eligibilite_geographique_exclusions=None date_ouverture=None date_cloture=None date_mise_a_jour=datetime.datetime(1531, 5, 1, 0, 0, tzinfo=TzInfo(+02:00))\n"
     ]
    }
   ],
   "source": [
    "from ollama import chat\n",
    "\n",
    "response = chat(\n",
    "  messages=[\n",
    "    {\n",
    "      'role': 'user',\n",
    "      'content': prompt,\n",
    "    }\n",
    "  ],\n",
    "  model='gemma3:4b',\n",
    "  format=DispositifAide.model_json_schema(),\n",
    ")\n",
    "\n",
    "structured_output = DispositifAide.model_validate_json(response.message.content)\n",
    "print(structured_output)"
   ]
  },
  {
   "cell_type": "code",
   "execution_count": 19,
   "id": "5870d199",
   "metadata": {},
   "outputs": [
    {
     "data": {
      "text/plain": [
       "{'titre': 'Accompagnement collectif et individuel des agriculteurs',\n",
       " 'description': \"Favoriser la mobilisation des agriculteurs vers des changements de pratiques et de systèmes efficaces et durables, par l'accompagnement collectif et/ou individuel (diagnostic d'exploitation et conseil individuel).\",\n",
       " 'eligibilite': ['Public ou privé.'],\n",
       " 'types_aides': ['financement'],\n",
       " 'porteurs': [Porteur(nom=\"Agence de l'eau\", roles=['financeur', 'diffuseur', 'diffuseur'])],\n",
       " 'programmes_parents': None,\n",
       " 'url_source': None,\n",
       " 'cibles': [\"aires d'alimentation de captages prioritaires inscrites au Sdage en vigueur\",\n",
       "  \"masses d'eau des 22 plans d'eau prioritaires sensibles à l'eutrophisation pour le phosphore\",\n",
       "  'bassins versants algues vertes',\n",
       "  \"sous-bassins en déséquilibre quantitatif des projets de territoire pour la gestion de l'eau (PTGE) approuvés\",\n",
       "  \"masses d'eau en risque de non atteinte du bon état pour les paramètres pesticides et/ou nitrates et proches du bon état\"],\n",
       " 'eligibilite_geographique': 'sur les territoires suivants, identifiés comme prioritaires par le Sdage en vigueur',\n",
       " 'eligibilite_geographique_exclusions': None,\n",
       " 'date_ouverture': None,\n",
       " 'date_cloture': None,\n",
       " 'date_mise_a_jour': datetime.datetime(1531, 5, 1, 0, 0, tzinfo=TzInfo(+02:00))}"
      ]
     },
     "execution_count": 19,
     "metadata": {},
     "output_type": "execute_result"
    }
   ],
   "source": [
    "dict(structured_output)"
   ]
  }
 ],
 "metadata": {
  "kernelspec": {
   "display_name": ".venv",
   "language": "python",
   "name": "python3"
  },
  "language_info": {
   "codemirror_mode": {
    "name": "ipython",
    "version": 3
   },
   "file_extension": ".py",
   "mimetype": "text/x-python",
   "name": "python",
   "nbconvert_exporter": "python",
   "pygments_lexer": "ipython3",
   "version": "3.13.3"
  }
 },
 "nbformat": 4,
 "nbformat_minor": 5
}
